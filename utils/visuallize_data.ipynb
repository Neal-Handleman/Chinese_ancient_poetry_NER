{
 "cells": [
  {
   "cell_type": "code",
   "execution_count": 1,
   "metadata": {
    "collapsed": true
   },
   "outputs": [],
   "source": [
    "# 可视化数据\n",
    "# 对数据进行清洗\n",
    "# 2023/03/06"
   ]
  },
  {
   "cell_type": "code",
   "execution_count": 2,
   "outputs": [],
   "source": [
    "import csv\n",
    "\n",
    "import pandas as pd\n",
    "import numpy as np\n",
    "import os"
   ],
   "metadata": {
    "collapsed": false
   }
  },
  {
   "cell_type": "code",
   "execution_count": 16,
   "outputs": [],
   "source": [
    "os.chdir(r'../data')"
   ],
   "metadata": {
    "collapsed": false
   }
  },
  {
   "cell_type": "code",
   "execution_count": 17,
   "outputs": [],
   "source": [
    "pd.set_option('display.max_columns', 20)\n",
    "pd.set_option('display.max_rows', 100)"
   ],
   "metadata": {
    "collapsed": false
   }
  },
  {
   "cell_type": "code",
   "execution_count": 18,
   "outputs": [],
   "source": [
    "df = pd.read_csv('data.csv', encoding='utf-8')"
   ],
   "metadata": {
    "collapsed": false
   }
  },
  {
   "cell_type": "code",
   "execution_count": 19,
   "outputs": [
    {
     "name": "stdout",
     "output_type": "stream",
     "text": [
      "<class 'pandas.core.frame.DataFrame'>\n",
      "RangeIndex: 320 entries, 0 to 319\n",
      "Data columns (total 3 columns):\n",
      " #   Column         Non-Null Count  Dtype \n",
      "---  ------         --------------  ----- \n",
      " 0   content        320 non-null    object\n",
      " 1   poetry_author  320 non-null    object\n",
      " 2   poetry_name    320 non-null    object\n",
      "dtypes: object(3)\n",
      "memory usage: 7.6+ KB\n"
     ]
    }
   ],
   "source": [
    "df.info()"
   ],
   "metadata": {
    "collapsed": false
   }
  },
  {
   "cell_type": "code",
   "execution_count": 8,
   "outputs": [
    {
     "data": {
      "text/plain": "                         content poetry_author poetry_name\n0  \\n寥落古行宫，宫花寂寞红。,白头宫女在，闲坐说玄宗。\\n            元稹          行宫\n1  \\n白日依山尽，黄河入海流。,欲穷千里目，更上一层楼。\\n           王之涣        登鹳雀楼\n2  \\n三日入厨下，洗手作羹汤。,未谙姑食性，先遣小姑尝。\\n            王建        新嫁娘词\n3  \\n红豆生南国，春来发几枝。,愿君多采撷，此物最相思。\\n            王维          相思\n4  \\n君自故乡来，应知故乡事。,来日绮窗前，寒梅著花未？\\n            王维     杂诗三首·其二",
      "text/html": "<div>\n<style scoped>\n    .dataframe tbody tr th:only-of-type {\n        vertical-align: middle;\n    }\n\n    .dataframe tbody tr th {\n        vertical-align: top;\n    }\n\n    .dataframe thead th {\n        text-align: right;\n    }\n</style>\n<table border=\"1\" class=\"dataframe\">\n  <thead>\n    <tr style=\"text-align: right;\">\n      <th></th>\n      <th>content</th>\n      <th>poetry_author</th>\n      <th>poetry_name</th>\n    </tr>\n  </thead>\n  <tbody>\n    <tr>\n      <th>0</th>\n      <td>\\n寥落古行宫，宫花寂寞红。,白头宫女在，闲坐说玄宗。\\n</td>\n      <td>元稹</td>\n      <td>行宫</td>\n    </tr>\n    <tr>\n      <th>1</th>\n      <td>\\n白日依山尽，黄河入海流。,欲穷千里目，更上一层楼。\\n</td>\n      <td>王之涣</td>\n      <td>登鹳雀楼</td>\n    </tr>\n    <tr>\n      <th>2</th>\n      <td>\\n三日入厨下，洗手作羹汤。,未谙姑食性，先遣小姑尝。\\n</td>\n      <td>王建</td>\n      <td>新嫁娘词</td>\n    </tr>\n    <tr>\n      <th>3</th>\n      <td>\\n红豆生南国，春来发几枝。,愿君多采撷，此物最相思。\\n</td>\n      <td>王维</td>\n      <td>相思</td>\n    </tr>\n    <tr>\n      <th>4</th>\n      <td>\\n君自故乡来，应知故乡事。,来日绮窗前，寒梅著花未？\\n</td>\n      <td>王维</td>\n      <td>杂诗三首·其二</td>\n    </tr>\n  </tbody>\n</table>\n</div>"
     },
     "execution_count": 8,
     "metadata": {},
     "output_type": "execute_result"
    }
   ],
   "source": [
    "df.head(5)"
   ],
   "metadata": {
    "collapsed": false
   }
  },
  {
   "cell_type": "code",
   "execution_count": 9,
   "outputs": [
    {
     "data": {
      "text/plain": "                           content poetry_author poetry_name\n315  \\n家临九江水，来去九江侧。,同是长干人，生小不相识。\\n            崔颢   长干行·家临九江水\n316  \\n鹫翎金仆姑，燕尾绣蝥弧。,独立扬新令，千营共一呼。\\n            卢纶  和张仆射塞下曲·其一\n317  \\n林暗草惊风，将军夜引弓。,平明寻白羽，没在石棱中。\\n            卢纶  和张仆射塞下曲·其二\n318  \\n月黑雁飞高，单于夜遁逃。,欲将轻骑逐，大雪满弓刀。\\n            卢纶         塞下曲\n319  \\n野幕敞琼筵，羌戎贺劳旋。,醉和金甲舞，雷鼓动山川。\\n            卢纶  和张仆射塞下曲·其四",
      "text/html": "<div>\n<style scoped>\n    .dataframe tbody tr th:only-of-type {\n        vertical-align: middle;\n    }\n\n    .dataframe tbody tr th {\n        vertical-align: top;\n    }\n\n    .dataframe thead th {\n        text-align: right;\n    }\n</style>\n<table border=\"1\" class=\"dataframe\">\n  <thead>\n    <tr style=\"text-align: right;\">\n      <th></th>\n      <th>content</th>\n      <th>poetry_author</th>\n      <th>poetry_name</th>\n    </tr>\n  </thead>\n  <tbody>\n    <tr>\n      <th>315</th>\n      <td>\\n家临九江水，来去九江侧。,同是长干人，生小不相识。\\n</td>\n      <td>崔颢</td>\n      <td>长干行·家临九江水</td>\n    </tr>\n    <tr>\n      <th>316</th>\n      <td>\\n鹫翎金仆姑，燕尾绣蝥弧。,独立扬新令，千营共一呼。\\n</td>\n      <td>卢纶</td>\n      <td>和张仆射塞下曲·其一</td>\n    </tr>\n    <tr>\n      <th>317</th>\n      <td>\\n林暗草惊风，将军夜引弓。,平明寻白羽，没在石棱中。\\n</td>\n      <td>卢纶</td>\n      <td>和张仆射塞下曲·其二</td>\n    </tr>\n    <tr>\n      <th>318</th>\n      <td>\\n月黑雁飞高，单于夜遁逃。,欲将轻骑逐，大雪满弓刀。\\n</td>\n      <td>卢纶</td>\n      <td>塞下曲</td>\n    </tr>\n    <tr>\n      <th>319</th>\n      <td>\\n野幕敞琼筵，羌戎贺劳旋。,醉和金甲舞，雷鼓动山川。\\n</td>\n      <td>卢纶</td>\n      <td>和张仆射塞下曲·其四</td>\n    </tr>\n  </tbody>\n</table>\n</div>"
     },
     "execution_count": 9,
     "metadata": {},
     "output_type": "execute_result"
    }
   ],
   "source": [
    "df.tail(5)"
   ],
   "metadata": {
    "collapsed": false
   }
  },
  {
   "cell_type": "code",
   "execution_count": 21,
   "outputs": [
    {
     "name": "stdout",
     "output_type": "stream",
     "text": [
      "{'content': '\\n寥落古行宫，宫花寂寞红。,白头宫女在，闲坐说玄宗。\\n', 'poetry_author': '元稹', 'poetry_name': '行宫'}\n"
     ]
    }
   ],
   "source": [
    "import  csv\n",
    "with open('data.csv','r',encoding='utf-8') as cvfile:\n",
    "    reader = csv.DictReader(cvfile)\n",
    "    for row in reader:\n",
    "        print(row)\n",
    "        break"
   ],
   "metadata": {
    "collapsed": false
   }
  },
  {
   "cell_type": "code",
   "execution_count": null,
   "outputs": [],
   "source": [
    "#poetry_clearned.to_csv(\"poetry_c_1.csv\",encoding='utf-8',index=False)"
   ],
   "metadata": {
    "collapsed": false
   }
  }
 ],
 "metadata": {
  "kernelspec": {
   "display_name": "Python 3",
   "language": "python",
   "name": "python3"
  },
  "language_info": {
   "codemirror_mode": {
    "name": "ipython",
    "version": 2
   },
   "file_extension": ".py",
   "mimetype": "text/x-python",
   "name": "python",
   "nbconvert_exporter": "python",
   "pygments_lexer": "ipython2",
   "version": "2.7.6"
  }
 },
 "nbformat": 4,
 "nbformat_minor": 0
}
